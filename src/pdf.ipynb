{
 "metadata": {
  "language_info": {
   "codemirror_mode": {
    "name": "ipython",
    "version": 3
   },
   "file_extension": ".py",
   "mimetype": "text/x-python",
   "name": "python",
   "nbconvert_exporter": "python",
   "pygments_lexer": "ipython3",
   "version": "3.8.4-final"
  },
  "orig_nbformat": 2,
  "kernelspec": {
   "name": "python384jvsc74a57bd06444fa8f4ad5877be6df98df9aebb22d3d712266ad0df972058f78a30016b41d",
   "display_name": "Python 3.8.4 64-bit ('.venv')"
  },
  "metadata": {
   "interpreter": {
    "hash": "6444fa8f4ad5877be6df98df9aebb22d3d712266ad0df972058f78a30016b41d"
   }
  }
 },
 "nbformat": 4,
 "nbformat_minor": 2,
 "cells": [
  {
   "cell_type": "code",
   "execution_count": 1,
   "metadata": {},
   "outputs": [],
   "source": [
    "import pdfplumber"
   ]
  },
  {
   "cell_type": "code",
   "execution_count": 18,
   "metadata": {},
   "outputs": [],
   "source": [
    "pdf = pdfplumber.open(\"1209486827.pdf\")"
   ]
  },
  {
   "cell_type": "code",
   "execution_count": 24,
   "metadata": {},
   "outputs": [
    {
     "output_type": "execute_result",
     "data": {
      "text/plain": [
       "'证券代码：603288  证券简称：海天味业  公告编号：2021-008 \\n \\n佛山市海天调味食品股份有限公司 \\n关于修订《公司章程》的公告 \\n \\n本公司董事会及全体董事保证本公告内容不存在虚假记载、误导性陈述或者\\n重大遗漏，并对其内容的真实、准确和完整承担个别及连带责任。 \\n \\n佛山市海天调味食品股份有限公司（以下简称“公司”）第四届董事第十二\\n次会议于2021年3月30日召开，会议审议并通过了《关于修订公司章程的议案》。 \\n根据公司2020 年度利润分配及资本公积金转增股本的预案，拟以公司2020\\n年末股本总数 3,240,443,208 股为基数，向全体股东按每 10 股转增 2 股的比例\\n实施资本公积金转增股本；按每 10 股送 1 股(含税)的比例实施送红股，上述资\\n本公积金转增股本以及送红股完成后，公司总股本将增加至 4,212,576,170 股\\n(转增股数和送红股数系公司根据实际计算结果四舍五入所得，最终转增股数和\\n送红股数量以中国证券登记结算有限公司实际转增和送股结果为准)。 \\n为此，拟对公司章程相关条款进行修订，具体修订条款请见公司章程修订对\\n比表，同时，授权经营管理层在本次资本公积金转增股本及送红股实施完成后全\\n权办理与注册资本变更、公司章程修改相关的工商变更登记等事宜。 \\n《公司章程修订对比表》 \\n原文条款  修订前  修订后 \\n公司注册资本为人民币324044.3208 公司注册资本为人民币421257.6170\\n第六条 \\n万元。  万元。 \\n公司股份总数为 324044.3208万股， 公司股份总数为421257.6170 万股，\\n公 司 的 股 本 结 构 为 ： 普 通 股 公 司 的 股 本 结 构 为 ： 普 通 股\\n第十九条 \\n324044.3208 万股。公司的全部股份 421257.6170万股。公司的全部股份\\n为普通股，不设置优先股。  为普通股，不设置优先股。 \\n \\n除上述条款修订外，《公司章程》的其他内容不变，待公司股东大会审议通\\n1 \\n '"
      ]
     },
     "metadata": {},
     "execution_count": 24
    }
   ],
   "source": [
    "p1  = pdf.pages[0]\n",
    "p1.extract_text()"
   ]
  },
  {
   "cell_type": "code",
   "execution_count": 4,
   "metadata": {},
   "outputs": [],
   "source": [
    "from pptx import Presentation"
   ]
  },
  {
   "cell_type": "code",
   "execution_count": 5,
   "metadata": {},
   "outputs": [],
   "source": [
    "prs = Presentation('test.pptx')"
   ]
  },
  {
   "cell_type": "code",
   "execution_count": 6,
   "metadata": {},
   "outputs": [],
   "source": [
    "text_runs = []\n",
    "for slide in prs.slides:\n",
    "    for shape in slide.shapes:\n",
    "        if not shape.has_text_frame:\n",
    "            continue\n",
    "        for paragraph in shape.text_frame.paragraphs:\n",
    "            for run in paragraph.runs:\n",
    "                text_runs.append(run.text)"
   ]
  },
  {
   "cell_type": "code",
   "execution_count": 7,
   "metadata": {},
   "outputs": [
    {
     "output_type": "execute_result",
     "data": {
      "text/plain": [
       "['Node + Mongodb + Linux',\n",
       " '前端过度到服务端，需要掌握的技术',\n",
       " '学习的大概思路',\n",
       " '了解基础组件，补齐基础一些概念',\n",
       " '了解MongoDB（NoSQL概念）',\n",
       " '了解操作系统，Linux（Centos）是服务器端常用的操作系统，如果没有基础Centos知识，就没法办操作服务器',\n",
       " 'Node：适合前端的后端开发语言',\n",
       " 'Node相关的知识点，自己补充一下',\n",
       " 'MongoDB：数据存储服务',\n",
       " '客户端',\n",
       " '服务端',\n",
       " 'MongoDB的软件架构图，有客户端和服务端组成',\n",
       " '客户端：可以可以是类似Robo 3T 等GUI工具，可以是node操作MongoDB的客户端库。',\n",
       " '服务端：提供文档类型的存储（文档型数据库或者NoSQL ',\n",
       " 'https://zh.wikipedia.org/wiki/NoSQL',\n",
       " '）。MongoDB是跨平台数据库，C++编写，可运行在linux\\\\mac\\\\windows',\n",
       " 'linux或docker',\n",
       " 'windows',\n",
       " 'mac',\n",
       " 'linux',\n",
       " '如何操作数据库？',\n",
       " '操作数据库的4个步骤：',\n",
       " '1：连接数据库 ',\n",
       " 'db.',\n",
       " 'connect()',\n",
       " '2：打开数据库 ',\n",
       " 'db.',\n",
       " 'open()',\n",
       " '3：操作数据库 ',\n",
       " 'db.add/select/delete/update()',\n",
       " '4：关闭数据库 ',\n",
       " 'db',\n",
       " '.',\n",
       " 'close',\n",
       " '(',\n",
       " ')',\n",
       " 'Node 操作mongo代码案例：',\n",
       " ' ',\n",
       " 'https://www.runoob.com/nodejs/nodejs-mongodb.html',\n",
       " 'Linux：服务器操作系统',\n",
       " '如何学习服务器端的操作系统呢?',\n",
       " '1:  服务器操作系统众多，选择一个国内普遍使用的版本学习，比如CentOS、ubuntu ',\n",
       " 'https://zh.wikipedia.org/wiki/CentOS',\n",
       " '2: linux类型的服务器通过命令进行操作，需要liunx下常见的命令，比如ls\\\\cp\\\\mv\\\\ssh\\\\scp\\\\top等',\n",
       " 'https://zhuanlan.zhihu.com/p/41605800',\n",
       " 'centos 命令分类（学习后补齐）',\n",
       " '文件与目录操作',\n",
       " '练习题',\n",
       " '创建文件node_console   ',\n",
       " '/Users/用户名/worker/',\n",
       " 'node_console',\n",
       " '写入 一段node代码保存',\n",
       " '通过cat或tail查看',\n",
       " 'node_console内容',\n",
       " '通过node运行',\n",
       " 'node_console']"
      ]
     },
     "metadata": {},
     "execution_count": 7
    }
   ],
   "source": [
    "text_runs"
   ]
  },
  {
   "cell_type": "code",
   "execution_count": null,
   "metadata": {},
   "outputs": [],
   "source": []
  }
 ]
}